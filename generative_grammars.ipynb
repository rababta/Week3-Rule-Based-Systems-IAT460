{
  "cells": [
    {
      "cell_type": "markdown",
      "metadata": {
        "id": "kViWafbLnJMv"
      },
      "source": [
        "<a href=\"https://colab.research.google.com/github/IAT-ComputationalCreativity-Spring2025/Week3-Rule-Based-Systems/blob/main/generative_grammars.ipynb\" target=\"_parent\"><img src=\"https://colab.research.google.com/assets/colab-badge.svg\" alt=\"Open In Colab\"/></a>"
      ]
    },
    {
      "cell_type": "markdown",
      "metadata": {
        "id": "5T_IG4qhnJMz"
      },
      "source": [
        "# Generative Grammars Lab Exercise\n",
        "\n",
        "This notebook introduces context-free grammars and their implementation in Python\n",
        "for generating natural language sentences."
      ]
    },
    {
      "cell_type": "markdown",
      "metadata": {
        "id": "nESnw17JnJMz"
      },
      "source": [
        "## Introduction to Generative Grammars\n",
        "\n",
        "A context-free grammar consists of:\n",
        "- **Terminal symbols**: Words that appear in the final output (e.g., \"cat\", \"dog\")\n",
        "- **Non-terminal symbols**: Placeholders that get replaced by other symbols (e.g., NP, VP)\n",
        "- **Production rules**: Rules that define how non-terminals can be replaced\n",
        "\n",
        "For example:\n",
        "- S → NP VP (A sentence consists of a noun phrase followed by a verb phrase)\n",
        "- NP → Det N (A noun phrase consists of a determiner followed by a noun)\n",
        "- VP → V (A verb phrase can be just a verb)"
      ]
    },
    {
      "cell_type": "code",
      "execution_count": 43,
      "metadata": {
        "id": "VuzLYr5snJM0"
      },
      "outputs": [],
      "source": [
        "import random\n",
        "\n",
        "# Define our basic grammar\n",
        "basic_grammar = {\n",
        "    'S': [['NP', 'VP']],\n",
        "    'NP': [['Det', 'N'], ['Det', 'Adj', 'N']],\n",
        "    'VP': [['V', 'NP'], ['V']],\n",
        "    'Det': ['the', 'a', 'my'],\n",
        "    'N': ['cat', 'dog', 'robot', 'programmer'],\n",
        "    'V': ['sleeps', 'jumps', 'codes', 'runs'],\n",
        "    'Adj': ['quick', 'lazy', 'clever', 'brave']\n",
        "}\n",
        "\n",
        "def generate(symbol, grammar):\n",
        "    \"\"\"\n",
        "    Recursively generate a string from the grammar starting with the given symbol.\n",
        "\n",
        "    Args:\n",
        "        symbol: The symbol to start generating from\n",
        "\n",
        "    Returns:\n",
        "        A string generated from the grammar rules\n",
        "    \"\"\"\n",
        "    if isinstance(symbol, str) and symbol in grammar:\n",
        "        production = random.choice(grammar[symbol])\n",
        "        if isinstance(production, list):\n",
        "            return ' '.join(generate(sym, grammar) for sym in production)\n",
        "        return production\n",
        "    return symbol"
      ]
    },
    {
      "cell_type": "markdown",
      "metadata": {
        "id": "iGYyTl3wnJM1"
      },
      "source": [
        "## Basic Sentence Generation\n",
        "\n",
        "Let's generate some basic sentences using our grammar:"
      ]
    },
    {
      "cell_type": "code",
      "execution_count": 44,
      "metadata": {
        "colab": {
          "base_uri": "https://localhost:8080/"
        },
        "id": "3xlIWA_anJM2",
        "outputId": "9aefe7a4-7959-4c5a-8c50-0a501b844b2c"
      },
      "outputs": [
        {
          "output_type": "stream",
          "name": "stdout",
          "text": [
            "Generated sentences:\n",
            "\n",
            "1. my brave dog jumps a dog\n",
            "2. a programmer jumps\n",
            "3. my cat sleeps\n",
            "4. the programmer sleeps a dog\n",
            "5. my clever robot sleeps\n"
          ]
        }
      ],
      "source": [
        "print(\"Generated sentences:\\n\")\n",
        "for i in range(5):\n",
        "    print(f\"{i+1}. {generate('S', basic_grammar)}\")"
      ]
    },
    {
      "cell_type": "markdown",
      "metadata": {
        "id": "s3r5zLdUnJM2"
      },
      "source": [
        "## Exercise 1: Expanding the Grammar\n",
        "\n",
        "Now it's your turn! Modify the grammar to include:\n",
        "- More nouns\n",
        "- More adjectives\n",
        "- More verbs\n",
        "\n",
        "Try adding these categories:\n"
      ]
    },
    {
      "cell_type": "code",
      "execution_count": 45,
      "metadata": {
        "id": "DCTs8aphnJM2"
      },
      "outputs": [],
      "source": [
        "# Create an expanded grammar\n",
        "expanded_grammar = basic_grammar.copy()  # Start with our original grammar\n",
        "\n",
        "# Add more words to existing categories\n",
        "# i.e. expanded_grammar['N'].extend(['apple', 'orange'])\n",
        "expanded_grammar['N'].extend([])\n",
        "expanded_grammar['V'].extend([])\n",
        "expanded_grammar['Adj'].extend([])\n",
        "expanded_grammar['Det'].extend([])"
      ]
    },
    {
      "cell_type": "code",
      "execution_count": 46,
      "metadata": {
        "colab": {
          "base_uri": "https://localhost:8080/"
        },
        "id": "D_vph64JnJM3",
        "outputId": "e49014c7-dd37-4a85-9a20-5652e0953c95"
      },
      "outputs": [
        {
          "output_type": "stream",
          "name": "stdout",
          "text": [
            "Generated sentences with expanded vocabulary:\n",
            "\n",
            "1. a brave dog runs a programmer\n",
            "2. my dog jumps\n",
            "3. my quick cat jumps the cat\n",
            "4. my lazy programmer jumps\n",
            "5. my cat runs\n"
          ]
        }
      ],
      "source": [
        "# Try the expanded grammar\n",
        "print(\"Generated sentences with expanded vocabulary:\\n\")\n",
        "for i in range(5):\n",
        "    print(f\"{i+1}. {generate('S', expanded_grammar)}\")"
      ]
    },
    {
      "cell_type": "markdown",
      "metadata": {
        "id": "JohkdFiHnJM3"
      },
      "source": [
        "## Exercise 2: Adding Questions\n",
        "\n",
        "Let's modify the grammar to generate questions. We'll need:\n",
        "- Question words (who, what, where, etc.)\n",
        "- New production rules for question structure\n",
        "- Appropriate verb forms"
      ]
    },
    {
      "cell_type": "code",
      "execution_count": 47,
      "metadata": {
        "id": "UByByb4_nJM3"
      },
      "outputs": [],
      "source": [
        "# Create a grammar with questions\n",
        "question_grammar = expanded_grammar.copy()\n",
        "\n",
        "# Question-related rules\n",
        "question_grammar['S'].append(['Q'])  # Add question as possible sentence type\n",
        "# Create some question structures and words here\n",
        "question_grammar['Q'] = []  # Question structures\n",
        "question_grammar['QW'] = []  # Question words"
      ]
    },
    {
      "cell_type": "code",
      "execution_count": 48,
      "metadata": {
        "colab": {
          "base_uri": "https://localhost:8080/",
          "height": 366
        },
        "id": "PS8DLBbjnJM3",
        "outputId": "d91d534a-d664-4cea-8149-571bd6c93cc5"
      },
      "outputs": [
        {
          "output_type": "stream",
          "name": "stdout",
          "text": [
            "Generated questions:\n",
            "\n"
          ]
        },
        {
          "output_type": "error",
          "ename": "IndexError",
          "evalue": "Cannot choose from an empty sequence",
          "traceback": [
            "\u001b[0;31m---------------------------------------------------------------------------\u001b[0m",
            "\u001b[0;31mIndexError\u001b[0m                                Traceback (most recent call last)",
            "\u001b[0;32m<ipython-input-48-404033b57c76>\u001b[0m in \u001b[0;36m<cell line: 0>\u001b[0;34m()\u001b[0m\n\u001b[1;32m      1\u001b[0m \u001b[0mprint\u001b[0m\u001b[0;34m(\u001b[0m\u001b[0;34m\"Generated questions:\\n\"\u001b[0m\u001b[0;34m)\u001b[0m\u001b[0;34m\u001b[0m\u001b[0;34m\u001b[0m\u001b[0m\n\u001b[1;32m      2\u001b[0m \u001b[0;32mfor\u001b[0m \u001b[0mi\u001b[0m \u001b[0;32min\u001b[0m \u001b[0mrange\u001b[0m\u001b[0;34m(\u001b[0m\u001b[0;36m5\u001b[0m\u001b[0;34m)\u001b[0m\u001b[0;34m:\u001b[0m\u001b[0;34m\u001b[0m\u001b[0;34m\u001b[0m\u001b[0m\n\u001b[0;32m----> 3\u001b[0;31m     \u001b[0mprint\u001b[0m\u001b[0;34m(\u001b[0m\u001b[0;34mf\"{i+1}. {generate('Q', question_grammar)}?\"\u001b[0m\u001b[0;34m)\u001b[0m\u001b[0;34m\u001b[0m\u001b[0;34m\u001b[0m\u001b[0m\n\u001b[0m",
            "\u001b[0;32m<ipython-input-43-dfd18359b0a9>\u001b[0m in \u001b[0;36mgenerate\u001b[0;34m(symbol, grammar)\u001b[0m\n\u001b[1;32m     23\u001b[0m     \"\"\"\n\u001b[1;32m     24\u001b[0m     \u001b[0;32mif\u001b[0m \u001b[0misinstance\u001b[0m\u001b[0;34m(\u001b[0m\u001b[0msymbol\u001b[0m\u001b[0;34m,\u001b[0m \u001b[0mstr\u001b[0m\u001b[0;34m)\u001b[0m \u001b[0;32mand\u001b[0m \u001b[0msymbol\u001b[0m \u001b[0;32min\u001b[0m \u001b[0mgrammar\u001b[0m\u001b[0;34m:\u001b[0m\u001b[0;34m\u001b[0m\u001b[0;34m\u001b[0m\u001b[0m\n\u001b[0;32m---> 25\u001b[0;31m         \u001b[0mproduction\u001b[0m \u001b[0;34m=\u001b[0m \u001b[0mrandom\u001b[0m\u001b[0;34m.\u001b[0m\u001b[0mchoice\u001b[0m\u001b[0;34m(\u001b[0m\u001b[0mgrammar\u001b[0m\u001b[0;34m[\u001b[0m\u001b[0msymbol\u001b[0m\u001b[0;34m]\u001b[0m\u001b[0;34m)\u001b[0m\u001b[0;34m\u001b[0m\u001b[0;34m\u001b[0m\u001b[0m\n\u001b[0m\u001b[1;32m     26\u001b[0m         \u001b[0;32mif\u001b[0m \u001b[0misinstance\u001b[0m\u001b[0;34m(\u001b[0m\u001b[0mproduction\u001b[0m\u001b[0;34m,\u001b[0m \u001b[0mlist\u001b[0m\u001b[0;34m)\u001b[0m\u001b[0;34m:\u001b[0m\u001b[0;34m\u001b[0m\u001b[0;34m\u001b[0m\u001b[0m\n\u001b[1;32m     27\u001b[0m             \u001b[0;32mreturn\u001b[0m \u001b[0;34m' '\u001b[0m\u001b[0;34m.\u001b[0m\u001b[0mjoin\u001b[0m\u001b[0;34m(\u001b[0m\u001b[0mgenerate\u001b[0m\u001b[0;34m(\u001b[0m\u001b[0msym\u001b[0m\u001b[0;34m,\u001b[0m \u001b[0mgrammar\u001b[0m\u001b[0;34m)\u001b[0m \u001b[0;32mfor\u001b[0m \u001b[0msym\u001b[0m \u001b[0;32min\u001b[0m \u001b[0mproduction\u001b[0m\u001b[0;34m)\u001b[0m\u001b[0;34m\u001b[0m\u001b[0;34m\u001b[0m\u001b[0m\n",
            "\u001b[0;32m/usr/lib/python3.11/random.py\u001b[0m in \u001b[0;36mchoice\u001b[0;34m(self, seq)\u001b[0m\n\u001b[1;32m    371\u001b[0m         \u001b[0;31m# because bool(numpy.array()) raises a ValueError.\u001b[0m\u001b[0;34m\u001b[0m\u001b[0;34m\u001b[0m\u001b[0m\n\u001b[1;32m    372\u001b[0m         \u001b[0;32mif\u001b[0m \u001b[0;32mnot\u001b[0m \u001b[0mlen\u001b[0m\u001b[0;34m(\u001b[0m\u001b[0mseq\u001b[0m\u001b[0;34m)\u001b[0m\u001b[0;34m:\u001b[0m\u001b[0;34m\u001b[0m\u001b[0;34m\u001b[0m\u001b[0m\n\u001b[0;32m--> 373\u001b[0;31m             \u001b[0;32mraise\u001b[0m \u001b[0mIndexError\u001b[0m\u001b[0;34m(\u001b[0m\u001b[0;34m'Cannot choose from an empty sequence'\u001b[0m\u001b[0;34m)\u001b[0m\u001b[0;34m\u001b[0m\u001b[0;34m\u001b[0m\u001b[0m\n\u001b[0m\u001b[1;32m    374\u001b[0m         \u001b[0;32mreturn\u001b[0m \u001b[0mseq\u001b[0m\u001b[0;34m[\u001b[0m\u001b[0mself\u001b[0m\u001b[0;34m.\u001b[0m\u001b[0m_randbelow\u001b[0m\u001b[0;34m(\u001b[0m\u001b[0mlen\u001b[0m\u001b[0;34m(\u001b[0m\u001b[0mseq\u001b[0m\u001b[0;34m)\u001b[0m\u001b[0;34m)\u001b[0m\u001b[0;34m]\u001b[0m\u001b[0;34m\u001b[0m\u001b[0;34m\u001b[0m\u001b[0m\n\u001b[1;32m    375\u001b[0m \u001b[0;34m\u001b[0m\u001b[0m\n",
            "\u001b[0;31mIndexError\u001b[0m: Cannot choose from an empty sequence"
          ]
        }
      ],
      "source": [
        "print(\"Generated questions:\\n\")\n",
        "for i in range(5):\n",
        "    print(f\"{i+1}. {generate('Q', question_grammar)}?\")"
      ]
    },
    {
      "cell_type": "markdown",
      "metadata": {
        "id": "hKaeGc7snJM4"
      },
      "source": [
        "## Challenge: Poetry Generation\n",
        "\n",
        "Create a grammar that generates simple poetry. Consider:\n",
        "- Line structures\n",
        "- Rhyming words\n",
        "- Poetic phrases"
      ]
    },
    {
      "cell_type": "code",
      "execution_count": 51,
      "metadata": {
        "id": "nBlmgE6_nJM4"
      },
      "outputs": [],
      "source": [
        "# Define a poetry-specific grammar\n",
        "poetry_grammar = {\n",
        "    'POEM': [['LINE', 'LINE', 'LINE', 'LINE']],  # Four-line poem\n",
        "    'LINE': [['PHRASE', 'PHRASE']],  # Two phrases per line\n",
        "    'PHRASE': [['ADJ', 'N'], ['V', 'ADV']],  # Phrase structure\n",
        "    'ADJ': ['silent', 'gentle', 'misty', 'golden', 'dreamy', 'soft'],\n",
        "    'N': ['moon', 'wind', 'river', 'mountain', 'dream', 'sky'],\n",
        "    'V': ['whispers', 'dances', 'flows', 'glides', 'sings', 'sleeps'],\n",
        "    'ADV': ['slowly', 'sweetly', 'gently', 'quietly', 'peacefully']\n",
        "}\n",
        "\n",
        "def generate_poem(symbol='POEM'):\n",
        "    \"\"\"\n",
        "    Generate a poem using our poetry grammar\n",
        "    \"\"\"\n",
        "    if isinstance(symbol, str) and symbol in poetry_grammar:\n",
        "        production = random.choice(poetry_grammar[symbol])\n",
        "        if isinstance(production, list):\n",
        "            result = [generate_poem(sym) for sym in production]\n",
        "            if symbol == 'LINE':\n",
        "                return ' '.join(result) + '\\n'\n",
        "            return ' '.join(result)\n",
        "        return production\n",
        "\n",
        "    return symbol + ' '"
      ]
    },
    {
      "cell_type": "code",
      "execution_count": 52,
      "metadata": {
        "colab": {
          "base_uri": "https://localhost:8080/"
        },
        "id": "5q4s_o8xnJM4",
        "outputId": "0881fa26-5e7d-4a1d-dcbb-436b4ea8c680"
      },
      "outputs": [
        {
          "output_type": "stream",
          "name": "stdout",
          "text": [
            "Generated poem:\n",
            "\n",
            "dances quietly golden river\n",
            " dreamy wind whispers slowly\n",
            " dances sweetly dances quietly\n",
            " dances gently glides quietly\n",
            "\n"
          ]
        }
      ],
      "source": [
        "print(\"Generated poem:\\n\")\n",
        "print(generate_poem())"
      ]
    },
    {
      "cell_type": "code",
      "source": [
        "# Horror story grammar\n",
        "story_grammar = {\n",
        "    'STORY': [['INTRO', 'BACKGROUND', 'RISING_ACTION', 'CLIMAX', 'SECONDARY_ACTION', 'RESOLUTION']],\n",
        "    'INTRO': [['TIME', 'CHARACTER', 'was', 'PLACE', 'when', 'EVENT', '.']],\n",
        "    'BACKGROUND': [['Before this,', 'CHARACTER', 'often', 'ACTION', 'in', 'PLACE', '.']],\n",
        "    'RISING_ACTION': [['CHARACTER', 'decided to', 'ACTION', 'because', 'REASON', '.']],\n",
        "    'CLIMAX': [['Suddenly,', 'CHARACTER', 'faced', 'OBSTACLE', 'and', 'had to', 'DECISION', '.']],\n",
        "    'SECONDARY_ACTION': [['Afterward,', 'CHARACTER', 'chose to', 'SECOND_ACTION', '.']],\n",
        "    'RESOLUTION': [['And then,', 'CHARACTER', 'OUTCOME', '.']],\n",
        "\n",
        "    'TIME': ['Late at night', 'In the rainy night', 'Last night', 'In the middle of the night'],\n",
        "    'CHARACTER': ['Rabab', 'Anna', 'Fallon', 'Jeff', 'Culhane', 'Liam'],\n",
        "    'PLACE': ['in an abadoned house', 'in the empty garden', 'in the dark alleyway', 'at the ritual ceremony', 'at the sacrifice party'],\n",
        "    'EVENT': ['a strange sound echoed', 'a sudden storm appeared', 'a mysterious figure appeared', 'an accident happened'],\n",
        "    'ACTION': ['leave the place', 'search for the source', 'call for help', 'hide', 'explore'],\n",
        "    'SECOND_ACTION': ['find help', 'explore the surroundings', 'look for answers', 'try to escape', 'talk to others'],\n",
        "    'REASON': ['they felt something was wrong', 'they were scared', 'they were curious', 'they had no other choice'],\n",
        "    'OBSTACLE': ['a locked door', 'a deep river', 'a raging fire', 'a dark forest'],\n",
        "    'DECISION': ['find a way through', 'turn back', 'ask for help', 'fight against the odds'],\n",
        "    'OUTCOME': ['Gave up themeselves', 'Diasappeared', 'Ranaway', 'Screamed']\n",
        "}\n",
        "\n",
        "\n",
        "def generate_story(symbol='STORY'):\n",
        "    \"\"\"\n",
        "    Generate a story using our story grammar\n",
        "    \"\"\"\n",
        "    if isinstance(symbol, str) and symbol in story_grammar:\n",
        "        production = random.choice(story_grammar[symbol])\n",
        "        if isinstance(production, list):\n",
        "            result = [generate_story(sym) for sym in production]\n",
        "            return ' '.join(result)\n",
        "        return production\n",
        "\n",
        "    return symbol + ' '\n",
        "\n",
        "# Generate the story until it reaches 100 words\n",
        "def generate_full_story():\n",
        "    story = generate_story('STORY')\n",
        "\n",
        "    # Keep generating and appending stories until we reach 100 words\n",
        "    while len(story.split()) < 100:\n",
        "        story += ' Later,' + generate_story('STORY')\n",
        "\n",
        "    return story\n",
        "\n",
        "# Format the story into paragraphs\n",
        "def format_story(story_text):\n",
        "    return '\\n\\n'.join(story_text.split('. '))\n",
        "\n",
        "# Generate and print the story\n",
        "story = generate_full_story()\n",
        "formatted_story = format_story(story)"
      ],
      "metadata": {
        "id": "Wcq-_Tu6n0qq"
      },
      "execution_count": 103,
      "outputs": []
    },
    {
      "cell_type": "code",
      "source": [
        "print(\"\\nGenerated Story:\")\n",
        "print(formatted_story)"
      ],
      "metadata": {
        "colab": {
          "base_uri": "https://localhost:8080/"
        },
        "id": "5IKjLMYzn3db",
        "outputId": "f7e5d8c1-58e0-47c6-add4-0acfb034bca1"
      },
      "execution_count": 104,
      "outputs": [
        {
          "output_type": "stream",
          "name": "stdout",
          "text": [
            "\n",
            "Generated Story:\n",
            "Last night Anna was  in the empty garden when  a mysterious figure appeared \n",
            "\n",
            " Before this,  Fallon often  leave the place in  in an abadoned house \n",
            "\n",
            " Liam decided to  explore because  they were scared \n",
            "\n",
            " Suddenly,  Fallon faced  a deep river and  had to  ask for help \n",
            "\n",
            " Afterward,  Liam chose to  talk to others \n",
            "\n",
            " And then,  Fallon Screamed \n",
            "\n",
            " Later,In the middle of the night Anna was  in the dark alleyway when  a mysterious figure appeared \n",
            "\n",
            " Before this,  Rabab often  hide in  in the dark alleyway \n",
            "\n",
            " Jeff decided to  hide because  they were scared \n",
            "\n",
            " Suddenly,  Rabab faced  a dark forest and  had to  turn back \n",
            "\n",
            " Afterward,  Culhane chose to  look for answers \n",
            "\n",
            " And then,  Liam Diasappeared \n",
            "\n",
            "\n"
          ]
        }
      ]
    },
    {
      "cell_type": "code",
      "source": [
        "# Comedy story grammar\n",
        "comedy_grammar = {\n",
        "    'STORY': [['INTRO', 'RISING_ACTION', 'CLIMAX', 'RESOLUTION']],\n",
        "\n",
        "    'INTRO': [['TIME', 'CHARACTER', 'was', 'PLACE', 'when', 'EVENT', '.']],\n",
        "    'RISING_ACTION': [['CHARACTER', 'decided to', 'ACTION', 'because', 'REASON', '.']],\n",
        "    'CLIMAX': [['Suddenly,', 'CHARACTER', 'faced', 'OBSTACLE', 'and', 'had to', 'DECISION', '.']],\n",
        "    'RESOLUTION': [['And then,', 'CHARACTER', 'had to', 'OUTCOME', '.']],\n",
        "\n",
        "    'TIME': ['One sunny afternoon', 'On a ridiculous Tuesday morning', 'Last Friday night', 'During the world’s longest lunch break'],\n",
        "    'CHARACTER': ['Cameron the Clumsy Baker', 'Harveen the Forgetful Teacher', 'Carl the Awkward Magician', 'the Laughing cow', 'Aman the Lazy artist'],\n",
        "    'PLACE': ['in a crowded elevator', 'at the longest lineup', 'on the side of the road', 'on top of a mountain', 'in a nail salon'],\n",
        "    'EVENT': ['they waved at a stranger', 'they stood still', 'they screamed their lungs out', 'they cried silenty', 'they cursed a little'],\n",
        "\n",
        "    'ACTION': ['apologize profusely', 'run away dramatically', 'try to forget', 'make things worse', 'pretend it didn’t happen'],\n",
        "    'REASON': ['they thought it was the right thing to do', 'they panicked', 'they were in a rush', 'they were already embarrassed', 'they didn’t know what else to do'],\n",
        "\n",
        "    'OBSTACLE': ['a slippery floor', 'an angry crackhead', 'a louad place', 'a smelly crowd', 'a pigeon with attitude'],\n",
        "    'DECISION': ['continue with the plan', 'make up an excuse', 'ask for help', 'escape through the nearest exit', 'embrace the chaos'],\n",
        "\n",
        "    'OUTCOME': ['smooth things over with a terrible joke', 'run away without looking back', 'find themselves in an even stranger situation', 'laugh it off and move on', 'become the subject of a viral video']\n",
        "}\n",
        "\n",
        "def generate_story(symbol='STORY'):\n",
        "    \"\"\"\n",
        "    Generate a story using our story grammar\n",
        "    \"\"\"\n",
        "    if isinstance(symbol, str) and symbol in comedy_grammar:\n",
        "        production = random.choice(comedy_grammar[symbol])\n",
        "        if isinstance(production, list):\n",
        "            result = [generate_story(sym) for sym in production]\n",
        "            return ' '.join(result)\n",
        "        return production\n",
        "\n",
        "    return symbol + ' '\n",
        "\n",
        "# Generate the story until it reaches 100 words\n",
        "def generate_full_story():\n",
        "    story = generate_story('STORY')\n",
        "\n",
        "    # Keep generating and appending stories until we reach 100 words\n",
        "    while len(story.split()) < 100:\n",
        "        story += 'Later, ' + generate_story('STORY')\n",
        "\n",
        "    return story\n",
        "\n",
        "# Format the story into paragraphs\n",
        "def format_story(story_text):\n",
        "    return '\\n\\n'.join(story_text.split('. '))\n",
        "\n",
        "# Generate and print the story\n",
        "story = generate_full_story()\n",
        "formatted_story = format_story(story)"
      ],
      "metadata": {
        "id": "lpMZU4o-zKxw"
      },
      "execution_count": 107,
      "outputs": []
    },
    {
      "cell_type": "code",
      "source": [
        "print(\"\\nGenerated Story:\")\n",
        "print(formatted_story)"
      ],
      "metadata": {
        "colab": {
          "base_uri": "https://localhost:8080/"
        },
        "id": "2VvrpR0hzRaH",
        "outputId": "636eb812-ec10-4041-e6b2-13c6aea8b8c8"
      },
      "execution_count": 108,
      "outputs": [
        {
          "output_type": "stream",
          "name": "stdout",
          "text": [
            "\n",
            "Generated Story:\n",
            "One sunny afternoon Carl the Awkward Magician was  on top of a mountain when  they cried silenty \n",
            "\n",
            " Cameron the Clumsy Baker decided to  run away dramatically because  they didn’t know what else to do \n",
            "\n",
            " Suddenly,  Aman the Lazy artist faced  a smelly crowd and  had to  escape through the nearest exit \n",
            "\n",
            " And then,  Harveen the Forgetful Teacher had to  smooth things over with a terrible joke \n",
            "\n",
            "Later, One sunny afternoon the Laughing cow was  in a nail salon when  they cried silenty \n",
            "\n",
            " the Laughing cow decided to  apologize profusely because  they were already embarrassed \n",
            "\n",
            " Suddenly,  Aman the Lazy artist faced  a smelly crowd and  had to  embrace the chaos \n",
            "\n",
            " And then,  Aman the Lazy artist had to  laugh it off and move on \n",
            "\n",
            "\n"
          ]
        }
      ]
    },
    {
      "cell_type": "markdown",
      "metadata": {
        "id": "sKwzp-PXnJM4"
      },
      "source": [
        "## Exercises for Practice\n",
        "\n",
        "1. Try adding different types of sentence structures to the basic grammar\n",
        "2. Create themed vocabularies (e.g., science fiction, fantasy, nature)\n",
        "3. Modify the poetry generator to create different verse structures\n",
        "4. Add rhyming capabilities to the poetry generator\n",
        "5. Implement a grammar for generating specific types of text (e.g., news headlines, weather reports)\n",
        "\n",
        "Remember: The beauty of generative grammars lies in their ability to create infinite variations from a finite set of rules!"
      ]
    }
  ],
  "metadata": {
    "kernelspec": {
      "display_name": "iat460",
      "language": "python",
      "name": "python3"
    },
    "language_info": {
      "codemirror_mode": {
        "name": "ipython",
        "version": 3
      },
      "file_extension": ".py",
      "mimetype": "text/x-python",
      "name": "python",
      "nbconvert_exporter": "python",
      "pygments_lexer": "ipython3",
      "version": "3.9.21"
    },
    "colab": {
      "provenance": []
    }
  },
  "nbformat": 4,
  "nbformat_minor": 0
}